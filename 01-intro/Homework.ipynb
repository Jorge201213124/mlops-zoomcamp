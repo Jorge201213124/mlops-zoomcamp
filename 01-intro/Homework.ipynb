{
 "cells": [
  {
   "cell_type": "code",
   "execution_count": 1,
   "id": "a51c5550",
   "metadata": {},
   "outputs": [],
   "source": [
    "# Libraries\n",
    "import pandas as pd\n",
    "import sklearn\n",
    "\n",
    "from sklearn.feature_extraction import DictVectorizer\n",
    "from sklearn.linear_model import LinearRegression\n",
    "from sklearn.metrics import mean_squared_error"
   ]
  },
  {
   "cell_type": "code",
   "execution_count": 2,
   "id": "10fef654",
   "metadata": {},
   "outputs": [
    {
     "name": "stdout",
     "output_type": "stream",
     "text": [
      "pandas 1.4.2\n",
      "sklearn 1.0.2\n"
     ]
    }
   ],
   "source": [
    "print(\"pandas\", pd.__version__)\n",
    "print(\"sklearn\", sklearn.__version__)"
   ]
  },
  {
   "cell_type": "code",
   "execution_count": 3,
   "id": "ba2b4f6d",
   "metadata": {},
   "outputs": [
    {
     "name": "stdout",
     "output_type": "stream",
     "text": [
      "Dataset: (3066766, 19)\n"
     ]
    }
   ],
   "source": [
    "taxi_df = pd.read_parquet(\"https://d37ci6vzurychx.cloudfront.net/trip-data/yellow_tripdata_2023-01.parquet\")\n",
    "print(\"Dataset:\", taxi_df.shape)"
   ]
  },
  {
   "cell_type": "markdown",
   "id": "49d76c13",
   "metadata": {},
   "source": [
    "#### 1-Read the data for January. How many columns are there?"
   ]
  },
  {
   "cell_type": "code",
   "execution_count": 4,
   "id": "2c44ea5b",
   "metadata": {},
   "outputs": [
    {
     "name": "stdout",
     "output_type": "stream",
     "text": [
      "Columns: 19\n"
     ]
    }
   ],
   "source": [
    "print(\"Columns:\", taxi_df.shape[1])"
   ]
  },
  {
   "cell_type": "markdown",
   "id": "20433e19",
   "metadata": {},
   "source": [
    "#### 2-What's the standard deviation of the trips duration in January?"
   ]
  },
  {
   "cell_type": "code",
   "execution_count": 5,
   "id": "2c7fb988",
   "metadata": {},
   "outputs": [
    {
     "data": {
      "text/plain": [
       "Index(['VendorID', 'tpep_pickup_datetime', 'tpep_dropoff_datetime',\n",
       "       'passenger_count', 'trip_distance', 'RatecodeID', 'store_and_fwd_flag',\n",
       "       'PULocationID', 'DOLocationID', 'payment_type', 'fare_amount', 'extra',\n",
       "       'mta_tax', 'tip_amount', 'tolls_amount', 'improvement_surcharge',\n",
       "       'total_amount', 'congestion_surcharge', 'airport_fee'],\n",
       "      dtype='object')"
      ]
     },
     "execution_count": 5,
     "metadata": {},
     "output_type": "execute_result"
    }
   ],
   "source": [
    "taxi_df.columns"
   ]
  },
  {
   "cell_type": "code",
   "execution_count": 6,
   "id": "b31a2cc6",
   "metadata": {},
   "outputs": [
    {
     "name": "stdout",
     "output_type": "stream",
     "text": [
      "Standard derivation: 42.594351241920904\n"
     ]
    }
   ],
   "source": [
    "# Create duration variable\n",
    "taxi_df[\"duration\"] = (taxi_df[\"tpep_dropoff_datetime\"]-taxi_df[\"tpep_pickup_datetime\"]).dt.total_seconds()/60\n",
    "print(\"Standard derivation:\", taxi_df[\"duration\"].std())"
   ]
  },
  {
   "cell_type": "markdown",
   "id": "10c54a6f",
   "metadata": {},
   "source": [
    "#### 3-What fraction of the records left after you dropped the outliers?"
   ]
  },
  {
   "cell_type": "code",
   "execution_count": 7,
   "id": "dc3c7edb",
   "metadata": {},
   "outputs": [
    {
     "name": "stdout",
     "output_type": "stream",
     "text": [
      "Proportion remain: 0.9812202822125979\n"
     ]
    }
   ],
   "source": [
    "taxi_clean_df = taxi_df.loc[\n",
    "    (taxi_df[\"duration\"]<=60) & (taxi_df[\"duration\"]>=1)\n",
    "].copy().reset_index()\n",
    "print(\"Proportion remain:\", taxi_clean_df.shape[0]/taxi_df.shape[0])"
   ]
  },
  {
   "cell_type": "markdown",
   "id": "4ef3b71d",
   "metadata": {},
   "source": [
    "#### 4-One hot enconding"
   ]
  },
  {
   "cell_type": "code",
   "execution_count": 8,
   "id": "c5a3fa86",
   "metadata": {},
   "outputs": [],
   "source": [
    "# Convert to string\n",
    "taxi_clean_df[\"PULocationID\"] = taxi_clean_df[\"PULocationID\"].astype(str)\n",
    "taxi_clean_df[\"DOLocationID\"] = taxi_clean_df[\"DOLocationID\"].astype(str)\n",
    "\n",
    "# Create dictionary\n",
    "train_dicts = taxi_clean_df[[\"PULocationID\",\"DOLocationID\"]].to_dict(orient=\"records\")"
   ]
  },
  {
   "cell_type": "code",
   "execution_count": 9,
   "id": "64f05561",
   "metadata": {},
   "outputs": [],
   "source": [
    "# Apply one-hot enconding\n",
    "dv = DictVectorizer()\n",
    "x_train = dv.fit_transform(train_dicts)"
   ]
  },
  {
   "cell_type": "code",
   "execution_count": 10,
   "id": "0f6bc624",
   "metadata": {},
   "outputs": [
    {
     "data": {
      "text/plain": [
       "(3009173, 515)"
      ]
     },
     "execution_count": 10,
     "metadata": {},
     "output_type": "execute_result"
    }
   ],
   "source": [
    "x_train.shape"
   ]
  },
  {
   "cell_type": "markdown",
   "id": "a6e645f0",
   "metadata": {},
   "source": [
    "#### 5-Linear regression"
   ]
  },
  {
   "cell_type": "code",
   "execution_count": 11,
   "id": "4375c480",
   "metadata": {},
   "outputs": [],
   "source": [
    "y_train = taxi_clean_df[\"duration\"].to_numpy()"
   ]
  },
  {
   "cell_type": "code",
   "execution_count": 12,
   "id": "c88eee4d",
   "metadata": {},
   "outputs": [
    {
     "data": {
      "text/plain": [
       "LinearRegression()"
      ]
     },
     "execution_count": 12,
     "metadata": {},
     "output_type": "execute_result"
    }
   ],
   "source": [
    "# Train model\n",
    "model = LinearRegression()\n",
    "model.fit(x_train, y_train)"
   ]
  },
  {
   "cell_type": "code",
   "execution_count": 13,
   "id": "52db1e50",
   "metadata": {},
   "outputs": [],
   "source": [
    "# Get predictions\n",
    "y_pred = model.predict(x_train)"
   ]
  },
  {
   "cell_type": "code",
   "execution_count": 14,
   "id": "9d088b68",
   "metadata": {},
   "outputs": [
    {
     "data": {
      "text/plain": [
       "7.649261027826866"
      ]
     },
     "execution_count": 14,
     "metadata": {},
     "output_type": "execute_result"
    }
   ],
   "source": [
    "mean_squared_error(y_train, y_pred, squared=False)"
   ]
  },
  {
   "cell_type": "markdown",
   "id": "e36d2da2",
   "metadata": {},
   "source": [
    "#### 6-Check February results"
   ]
  },
  {
   "cell_type": "code",
   "execution_count": 15,
   "id": "cf59bda9",
   "metadata": {},
   "outputs": [
    {
     "name": "stdout",
     "output_type": "stream",
     "text": [
      "Dataset: (2913955, 19)\n"
     ]
    }
   ],
   "source": [
    "taxi_val_df = pd.read_parquet(\"https://d37ci6vzurychx.cloudfront.net/trip-data/yellow_tripdata_2023-02.parquet\")\n",
    "print(\"Dataset:\", taxi_val_df.shape)"
   ]
  },
  {
   "cell_type": "code",
   "execution_count": 16,
   "id": "8d379f18",
   "metadata": {},
   "outputs": [],
   "source": [
    "# Create duration variable\n",
    "taxi_val_df[\"duration\"] = (taxi_val_df[\"tpep_dropoff_datetime\"]-taxi_val_df[\"tpep_pickup_datetime\"]).dt.total_seconds()/60\n",
    "\n",
    "# Clean outliers\n",
    "taxi_val_clean_df = taxi_val_df.loc[\n",
    "    (taxi_val_df[\"duration\"]<=60) & (taxi_val_df[\"duration\"]>=1)\n",
    "].copy().reset_index(drop=True)\n",
    "\n",
    "# Apply one hot enconding\n",
    "taxi_val_clean_df[\"PULocationID\"] = taxi_val_clean_df[\"PULocationID\"].astype(str)\n",
    "taxi_val_clean_df[\"DOLocationID\"] = taxi_val_clean_df[\"DOLocationID\"].astype(str)\n",
    "\n",
    "val_dicts = taxi_val_clean_df[[\"PULocationID\",\"DOLocationID\"]].to_dict(orient=\"records\")\n",
    "x_val = dv.transform(val_dicts)"
   ]
  },
  {
   "cell_type": "code",
   "execution_count": 18,
   "id": "0c9609f8",
   "metadata": {},
   "outputs": [],
   "source": [
    "# Get truth and prediction values\n",
    "y_val = taxi_val_clean_df[\"duration\"].to_numpy()\n",
    "y_val_pred = model.predict(x_val)"
   ]
  },
  {
   "cell_type": "code",
   "execution_count": 19,
   "id": "365de9f3",
   "metadata": {},
   "outputs": [
    {
     "data": {
      "text/plain": [
       "7.811832641626525"
      ]
     },
     "execution_count": 19,
     "metadata": {},
     "output_type": "execute_result"
    }
   ],
   "source": [
    "# Measure performance\n",
    "mean_squared_error(y_val, y_val_pred, squared=False)"
   ]
  },
  {
   "cell_type": "code",
   "execution_count": null,
   "id": "75e01318",
   "metadata": {},
   "outputs": [],
   "source": []
  }
 ],
 "metadata": {
  "kernelspec": {
   "display_name": "Python 3 (ipykernel)",
   "language": "python",
   "name": "python3"
  },
  "language_info": {
   "codemirror_mode": {
    "name": "ipython",
    "version": 3
   },
   "file_extension": ".py",
   "mimetype": "text/x-python",
   "name": "python",
   "nbconvert_exporter": "python",
   "pygments_lexer": "ipython3",
   "version": "3.9.19"
  }
 },
 "nbformat": 4,
 "nbformat_minor": 5
}
