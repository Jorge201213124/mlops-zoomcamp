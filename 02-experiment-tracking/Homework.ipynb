{
 "cells": [
  {
   "cell_type": "code",
   "execution_count": 8,
   "id": "eb2a0557-98af-491e-8137-80ed6c65812e",
   "metadata": {},
   "outputs": [],
   "source": [
    "# Libraries\n",
    "import mlflow\n",
    "import pandas as pd"
   ]
  },
  {
   "cell_type": "markdown",
   "id": "f9a447a3-a310-40f0-a13b-95dab379f415",
   "metadata": {},
   "source": [
    "### What's the version that you have?"
   ]
  },
  {
   "cell_type": "code",
   "execution_count": 9,
   "id": "8edcfa0c-698a-42ed-9d9b-e61381cc1c8b",
   "metadata": {},
   "outputs": [
    {
     "name": "stdout",
     "output_type": "stream",
     "text": [
      "pandas 2.2.2\n",
      "mlflow 2.13.0\n"
     ]
    }
   ],
   "source": [
    "print(\"pandas\", pd.__version__)\n",
    "print(\"mlflow\", mlflow.__version__)"
   ]
  },
  {
   "cell_type": "markdown",
   "id": "db49c7b8-3bae-4b5c-ba94-695269aebd4f",
   "metadata": {},
   "source": [
    "### How many files were saved to OUTPUT_FOLDER?"
   ]
  },
  {
   "cell_type": "markdown",
   "id": "07313a01-d176-45a3-aeaf-5cfaab118b7b",
   "metadata": {},
   "source": [
    "4 files"
   ]
  },
  {
   "cell_type": "code",
   "execution_count": null,
   "id": "5d353a63-1c69-48df-8e68-e2569730aa29",
   "metadata": {},
   "outputs": [],
   "source": []
  }
 ],
 "metadata": {
  "kernelspec": {
   "display_name": "Python 3 (ipykernel)",
   "language": "python",
   "name": "python3"
  },
  "language_info": {
   "codemirror_mode": {
    "name": "ipython",
    "version": 3
   },
   "file_extension": ".py",
   "mimetype": "text/x-python",
   "name": "python",
   "nbconvert_exporter": "python",
   "pygments_lexer": "ipython3",
   "version": "3.9.19"
  }
 },
 "nbformat": 4,
 "nbformat_minor": 5
}
